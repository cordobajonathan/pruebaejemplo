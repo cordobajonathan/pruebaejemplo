{
 "cells": [
  {
   "cell_type": "code",
   "execution_count": 1,
   "metadata": {
    "collapsed": false
   },
   "outputs": [
    {
     "ename": "NameError",
     "evalue": "name 'ls' is not defined",
     "output_type": "error",
     "traceback": [
      "\u001b[1;31m---------------------------------------------------------------------------\u001b[0m",
      "\u001b[1;31mNameError\u001b[0m                                 Traceback (most recent call last)",
      "\u001b[1;32m<ipython-input-1-5f4f75339393>\u001b[0m in \u001b[0;36m<module>\u001b[1;34m()\u001b[0m\n\u001b[0;32m      1\u001b[0m \u001b[1;31m# TUTORIAL DE R MARKDOWN\u001b[0m\u001b[1;33m\u001b[0m\u001b[1;33m\u001b[0m\u001b[0m\n\u001b[1;32m----> 2\u001b[1;33m \u001b[0mls\u001b[0m\u001b[1;33m\u001b[0m\u001b[0m\n\u001b[0m",
      "\u001b[1;31mNameError\u001b[0m: name 'ls' is not defined"
     ]
    }
   ],
   "source": [
    "# TUTORIAL DE R MARKDOWN\n"
   ]
  },
  {
   "cell_type": "markdown",
   "metadata": {},
   "source": [
    "![alt text](by-nc-nd.png \"Titulo\")  "
   ]
  },
  {
   "cell_type": "code",
   "execution_count": 3,
   "metadata": {
    "collapsed": false
   },
   "outputs": [
    {
     "name": "stdout",
     "output_type": "stream",
     "text": [
      " El volumen de la unidad C es OS\n",
      " El n£mero de serie del volumen es: D87C-8A22\n",
      "\n",
      " Directorio de C:\\cygwin64\\home\\ASUS\n",
      "\n",
      "27/02/2016  10:38 a. m.    <DIR>          .\n",
      "27/02/2016  10:38 a. m.    <DIR>          ..\n",
      "27/02/2016  09:46 a. m.             3.200 .bash_history\n",
      "14/02/2016  12:11 p. m.             1.494 .bash_profile\n",
      "14/02/2016  12:11 p. m.             6.054 .bashrc\n",
      "14/02/2016  12:11 p. m.             1.919 .inputrc\n",
      "27/02/2016  10:10 a. m.    <DIR>          .ipynb_checkpoints\n",
      "16/02/2016  07:11 p. m.    <DIR>          .ipython\n",
      "16/02/2016  08:07 p. m.    <DIR>          .jupyter\n",
      "16/02/2016  08:41 p. m.                28 .lesshst\n",
      "26/02/2016  06:51 p. m.    <DIR>          .matplotlib\n",
      "14/02/2016  12:11 p. m.             1.236 .profile\n",
      "26/02/2016  03:19 p. m.            41.790 02-1 Bash--cmd.ipynb\n",
      "16/02/2016  09:25 p. m.             6.177 02-2 Practica 1.ipynb\n",
      "26/02/2016  03:41 p. m.            25.253 04-2 Python--archivos y strings.ipynb\n",
      "26/02/2016  07:10 p. m.             8.043 05-3 Python--data adq.ipynb\n",
      "27/02/2016  10:09 a. m.            21.294 09-1 Presentacion. Markdown y HTML en Jupyter.ipynb\n",
      "16/02/2016  09:13 p. m.            72.746 cargos.txt\n",
      "26/02/2016  06:37 p. m.    <DIR>          ejercicio1\n",
      "26/02/2016  03:53 p. m.                 0 out.1\n",
      "26/02/2016  04:26 p. m.             2.139 Untitled.ipynb\n",
      "27/02/2016  10:38 a. m.               806 Untitled1.ipynb\n",
      "              15 archivos        192.179 bytes\n",
      "               7 dirs  82.853.769.216 bytes libres\n"
     ]
    }
   ],
   "source": [
    "ls\n"
   ]
  }
 ],
 "metadata": {
  "kernelspec": {
   "display_name": "Python 2",
   "language": "python",
   "name": "python2"
  },
  "language_info": {
   "codemirror_mode": {
    "name": "ipython",
    "version": 2
   },
   "file_extension": ".py",
   "mimetype": "text/x-python",
   "name": "python",
   "nbconvert_exporter": "python",
   "pygments_lexer": "ipython2",
   "version": "2.7.10"
  }
 },
 "nbformat": 4,
 "nbformat_minor": 0
}
