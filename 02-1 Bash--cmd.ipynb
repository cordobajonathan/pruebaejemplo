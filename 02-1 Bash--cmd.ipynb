{
 "cells": [
  {
   "cell_type": "markdown",
   "metadata": {
    "slideshow": {
     "slide_type": "slide"
    }
   },
   "source": [
    "# Presentación del problema\n",
    "\n",
    "Hay un archivo CSV (llamado `cargos.txt`) con unos 14.000 registros. Las primeras lineas del archivo son las siguientes:\n",
    "\n",
    "---\n",
    "\n",
    "`unidad,cargo,key,ano,grupo,item,puntaje\n",
    "COMPUTACION,profesor_asistente,3010001,2000,titulos_universitarios,PhD,80\n",
    "Economia,profesor_asociado,3111002,2000,titulos_universitarios,PhD,80\n",
    "COMPUTACION,profesor_asistente,3010003,2000,Productividad,articulo_de_revista,12\n",
    "Economia,profesor_asociado,3111001,2000,Productividad,articulo_de_revista,12\n",
    "Economia,profesor_asociado,3111001,2000,Productividad,articulo_de_revista,12\n",
    "Economia,PROFESOR_TITULAR,3113001,2000,Productividad,Capitulo-de-Libro,3`\n",
    "\n",
    "---\n",
    "\n",
    "Indique cómo haría lo siguiente:\n",
    "\n",
    "* Contar la cantidad de unidades diferentes.\n",
    "* Contar la cantidad de cargos diferentes.\n",
    "* Convertir todo a mayúsculas o minúsculas.\n",
    "* Obtener los registros (filas) correspondientes al item `articulo_de_revista`.\n",
    "* Crear el archivo `2000.txt` y agregar los registros para el año 2000. Repetir para el año 2001 y así sucesivamente. \n",
    "\n",
    "\n",
    "# Objetivos\n",
    "\n",
    "Al finalizar este bloque, el estudiante debe ser capaz de: \n",
    "* Explicar el uso los principales comandos de Linux\n",
    "* Realizar manipulaciones y transformaciones básicas de archivos y carpetas desde el prompt de comandos"
   ]
  },
  {
   "cell_type": "markdown",
   "metadata": {
    "collapsed": false,
    "nbpresent": {
     "id": "a4b09f9a-453a-4787-83c4-61a43f75d860"
    },
    "slideshow": {
     "slide_type": "slide"
    }
   },
   "source": [
    "* * *\n",
    "# Resumen de los principales comandos\n",
    "\n",
    "**Miseláneos.**\n",
    "\n",
    "`date  ` --- imprime la fecha actual.  \n",
    "`cal   ` --- imprime un calendario mensual.  \n",
    "`dc    ` --- calculadora rpn.  \n",
    "`bc    ` --- calculadora infija.  \n",
    "`man   ` --- visualiza la ayuda para un comando en particular.  \n",
    "`touch ` --- cambia la fecha de acceso y modificación de un archivo.  \n",
    "\n",
    "\n",
    "**Gestión de archivos y directorios.**\n",
    "\n",
    "`pwd    ` --- imprime el nombre del directorio actual.  \n",
    "`ls     ` --- imprime los archivos y subdirectorios del directorio actual.  \n",
    "`cd     ` --- cambia el directorio actual.  \n",
    "`mkdir  ` --- creación de directorios.  \n",
    "`rmdir  ` --- remueve el directorio actual.  \n",
    "`rm     ` --- remueve archivos.  \n",
    "`mv     ` --- mover un archivo de directorio / cambiar el nombre.  \n",
    "`cp     ` --- copiar un archivo.  \n",
    "\n",
    "\n",
    "**Utilidades.**\n",
    "\n",
    "`echo  ` --- imprime una cadena de texto.  \n",
    "\n",
    "`cat   ` --- concatena archivos.  \n",
    "`head  ` --- imprime las primeras lineas de un archivo.  \n",
    "`tail  ` --- imprime las últimas lineas de un archivo.  \n",
    "`split ` --- parte un archivo en piezas.  \n",
    "`join  ` --- une archivos usando un campo en comun.  \n",
    "`cut   ` --- corta campos de cada linea de un archivo.  \n",
    "`uniq  ` --- permite remover o mostrar las lineas de un archivo.  \n",
    "`tr`     --- traslada (reemplaza) un conjunto de caracteres a otro.  \n",
    "\n",
    "`seq   ` --- genera una secuencia de enteros.  \n",
    "`wc    ` --- cuenta las lineas, palabras o caracteres que hay en un archivo.  \n",
    "`grep`, `egrep`, `fgrep` --- retorna las líneas de un archivo que un patrón específico.  \n",
    "`sort  ` --- ordena las lineas de un archivo.  \n",
    "\n",
    "`awk   ` --- lenguaje de procesamiento de patrones de texto. Reemplazado por el lenguaje Perl.  \n",
    "`sed   ` --- stream editor.  \n",
    "\n",
    "`chmod ` --- cambia permisos de un archivo.  \n",
    "* * * "
   ]
  },
  {
   "cell_type": "markdown",
   "metadata": {
    "slideshow": {
     "slide_type": "slide"
    }
   },
   "source": [
    "# Problemas "
   ]
  },
  {
   "cell_type": "markdown",
   "metadata": {
    "slideshow": {
     "slide_type": "subslide"
    }
   },
   "source": [
    "**Imprima un texto en la shell de comandos preservando el espacio entre las palabras.**  \n",
    "Note el comportamiento respecto al uso de las comillas."
   ]
  },
  {
   "cell_type": "code",
   "execution_count": 1,
   "metadata": {
    "collapsed": false,
    "slideshow": {
     "slide_type": "subslide"
    }
   },
   "outputs": [
    {
     "name": "stdout",
     "output_type": "stream",
     "text": [
      "hola mundo cruel\r\n"
     ]
    }
   ],
   "source": [
    "echo hola     mundo    cruel"
   ]
  },
  {
   "cell_type": "code",
   "execution_count": 2,
   "metadata": {
    "collapsed": false
   },
   "outputs": [
    {
     "name": "stdout",
     "output_type": "stream",
     "text": [
      "hola    mundo    cruel\r\n"
     ]
    }
   ],
   "source": [
    "echo 'hola    mundo    cruel'"
   ]
  },
  {
   "cell_type": "code",
   "execution_count": 3,
   "metadata": {
    "collapsed": false
   },
   "outputs": [
    {
     "name": "stdout",
     "output_type": "stream",
     "text": [
      "hola     mundo    cruel\r\n"
     ]
    }
   ],
   "source": [
    "echo \"hola     mundo    cruel\""
   ]
  },
  {
   "cell_type": "markdown",
   "metadata": {},
   "source": [
    "**Redireccione la salida a un archivo en disco.**  \n",
    "Se direcciona la salida al archivo *out.1* con el operador `>`.   \n",
    "Con `cat` se imprime el contenido del archivo en pantalla.   \n",
    "Con `>>`, la nueva salida se agrega al final del archivo. "
   ]
  },
  {
   "cell_type": "code",
   "execution_count": 4,
   "metadata": {
    "collapsed": false
   },
   "outputs": [
    {
     "name": "stdout",
     "output_type": "stream",
     "text": [
      "hola mundo feliz\r\n"
     ]
    }
   ],
   "source": [
    "echo hola mundo feliz > out.1\n",
    "cat out.1"
   ]
  },
  {
   "cell_type": "code",
   "execution_count": 5,
   "metadata": {
    "collapsed": false
   },
   "outputs": [
    {
     "name": "stdout",
     "output_type": "stream",
     "text": [
      "hola mundo feliz\r\n",
      "otra vez hola mundo feliz\r\n"
     ]
    }
   ],
   "source": [
    "echo \"otra vez hola mundo feliz\" >> out.1\n",
    "cat out.1"
   ]
  },
  {
   "cell_type": "markdown",
   "metadata": {},
   "source": [
    "**Cree un archivo vacío.**  \n",
    "Note que `echo` no tiene una cadena de texto."
   ]
  },
  {
   "cell_type": "code",
   "execution_count": 6,
   "metadata": {
    "collapsed": false
   },
   "outputs": [
    {
     "name": "stdout",
     "output_type": "stream",
     "text": [
      "\r\n"
     ]
    }
   ],
   "source": [
    "echo > out.1\n",
    "cat out.1"
   ]
  },
  {
   "cell_type": "markdown",
   "metadata": {},
   "source": [
    "**Imprima varias lineas de texto usando `echo`.**  \n",
    "La forma más simple es usar un comando `echo` por línea así:\n",
    "\n",
    "    echo linea 1\n",
    "    echo linea 2\n",
    "    echo linea 3\n",
    "    \n",
    "pero en este caso es posible usar las comillas:"
   ]
  },
  {
   "cell_type": "code",
   "execution_count": 7,
   "metadata": {
    "collapsed": false
   },
   "outputs": [
    {
     "name": "stdout",
     "output_type": "stream",
     "text": [
      "linea 1\r\n",
      "linea 2\r\n",
      "linea 3\r\n"
     ]
    }
   ],
   "source": [
    "echo 'linea 1\n",
    "linea 2\n",
    "linea 3' "
   ]
  },
  {
   "cell_type": "markdown",
   "metadata": {},
   "source": [
    "**Use el caracter de continuación `'\\'` para indicar que la línea lógica continua en el siguiente renglón físico.**  \n",
    "Todos los textos se imprimen en la misma línea de texto."
   ]
  },
  {
   "cell_type": "code",
   "execution_count": 8,
   "metadata": {
    "collapsed": false
   },
   "outputs": [
    {
     "name": "stdout",
     "output_type": "stream",
     "text": [
      "linea 1 linea 2 linea 3\r\n"
     ]
    }
   ],
   "source": [
    "echo linea 1 \\\n",
    "linea 2 \\\n",
    "linea 3"
   ]
  },
  {
   "cell_type": "markdown",
   "metadata": {},
   "source": [
    "**Use caracteres de escape para introducir retornos de carro en el texto (caracter '\\n').**  \n",
    "En este caso se usa la opción '-e' del comando `echo`."
   ]
  },
  {
   "cell_type": "code",
   "execution_count": 9,
   "metadata": {
    "collapsed": false
   },
   "outputs": [
    {
     "name": "stdout",
     "output_type": "stream",
     "text": [
      "linea 1\r\n",
      "linea 2\r\n",
      "linea 3\r\n"
     ]
    }
   ],
   "source": [
    "echo -e \"linea 1\\nlinea 2\\nlinea 3\""
   ]
  },
  {
   "cell_type": "markdown",
   "metadata": {},
   "source": [
    "**Indique un procedimiento alternativo para imprimir varias líneas de texto a un archivo.**  \n",
    "De acuerdo con lo anterior, hay varias alternativas:  \n",
    "\n",
    "* Opción 1).  \n",
    "\n",
    "```bash\n",
    "echo 10,mark,AA > out.1\n",
    "echo 10,steve,AA >> out.1\n",
    "echo 20,scott,AB >> out.1\n",
    "echo 30,chris,AC >> out.1\n",
    "```\n",
    "\n",
    "\n",
    "\n",
    "* Opción 2).\n",
    "\n",
    "```bash\n",
    "echo \"10,mark,AA\n",
    "10,steve,AA\n",
    "20,scott,AB\n",
    "30,chris,AC\" > out.1\n",
    "```\n",
    "\n",
    "\n",
    "\n",
    "Una forma alternativa es usar `EOF`:"
   ]
  },
  {
   "cell_type": "code",
   "execution_count": 10,
   "metadata": {
    "collapsed": false
   },
   "outputs": [
    {
     "name": "stdout",
     "output_type": "stream",
     "text": []
    }
   ],
   "source": [
    "cat > out.1 <<EOF\n",
    "10,mark,AA\n",
    "10,steve,AA\n",
    "20,scott,AB\n",
    "30,chris,AC\n",
    "EOF"
   ]
  },
  {
   "cell_type": "code",
   "execution_count": 11,
   "metadata": {
    "collapsed": false
   },
   "outputs": [
    {
     "name": "stdout",
     "output_type": "stream",
     "text": [
      "10,mark,AA\r\n",
      "10,steve,AA\r\n",
      "20,scott,AB\r\n",
      "30,chris,AC\r\n"
     ]
    }
   ],
   "source": [
    "cat out.1"
   ]
  },
  {
   "cell_type": "markdown",
   "metadata": {},
   "source": [
    "**Cómo puedo imprimir lineas con un formato elaborado?.**  \n",
    "En este caso use la función printf, la cual tiene una sintaxis similar a la del lenguaje C. \n",
    "\n",
    "* `%s` indica cadena de caracteres.\n",
    "* `%f` indica un número en punto flotante.\n",
    "* `%g` indica entero.\n",
    "\n",
    "En los siguientes ejemplos se ilustra como puede indicar el tamaño del campo. Note la alineación de la impresión. "
   ]
  },
  {
   "cell_type": "code",
   "execution_count": 12,
   "metadata": {
    "collapsed": false
   },
   "outputs": [
    {
     "name": "stdout",
     "output_type": "stream",
     "text": [
      "hola mundo ---- 1.234568"
     ]
    }
   ],
   "source": [
    "printf '%s ---- %f' 'hola mundo'  1.23456789"
   ]
  },
  {
   "cell_type": "code",
   "execution_count": 13,
   "metadata": {
    "collapsed": false,
    "scrolled": true
   },
   "outputs": [
    {
     "name": "stdout",
     "output_type": "stream",
     "text": [
      "           hola ---     1.23"
     ]
    }
   ],
   "source": [
    "printf '%15s --- %8.2f'  hola   1.23456789"
   ]
  },
  {
   "cell_type": "code",
   "execution_count": 14,
   "metadata": {
    "collapsed": false,
    "scrolled": true
   },
   "outputs": [
    {
     "name": "stdout",
     "output_type": "stream",
     "text": [
      "     hola mundo ---   123.46"
     ]
    }
   ],
   "source": [
    "printf '%15s --- %8.2f'  'hola mundo'   123.456789"
   ]
  },
  {
   "cell_type": "markdown",
   "metadata": {},
   "source": [
    "**Imprima los números del uno al cinco.**  \n",
    "En vez de `echo` se puede usar `seq` que permite generar secuencias."
   ]
  },
  {
   "cell_type": "code",
   "execution_count": 15,
   "metadata": {
    "collapsed": false
   },
   "outputs": [
    {
     "name": "stdout",
     "output_type": "stream",
     "text": [
      "1\r\n",
      "2\r\n",
      "3\r\n",
      "4\r\n",
      "5\r\n"
     ]
    }
   ],
   "source": [
    "seq 5"
   ]
  },
  {
   "cell_type": "markdown",
   "metadata": {},
   "source": [
    "Se puede usar la opción `-f` para dar formato a la secuencia, por ejemplo:"
   ]
  },
  {
   "cell_type": "code",
   "execution_count": 16,
   "metadata": {
    "collapsed": false
   },
   "outputs": [
    {
     "name": "stdout",
     "output_type": "stream",
     "text": [
      "linea 1\r\n",
      "linea 2\r\n",
      "linea 3\r\n",
      "linea 4\r\n",
      "linea 5\r\n"
     ]
    }
   ],
   "source": [
    "seq -f\"linea %g\" 5"
   ]
  },
  {
   "cell_type": "markdown",
   "metadata": {},
   "source": [
    "La opción `-s` permite indicar el separador."
   ]
  },
  {
   "cell_type": "code",
   "execution_count": 17,
   "metadata": {
    "collapsed": false
   },
   "outputs": [
    {
     "name": "stdout",
     "output_type": "stream",
     "text": [
      "2,4,6,8,10,"
     ]
    }
   ],
   "source": [
    "seq -s, 2 2 10"
   ]
  },
  {
   "cell_type": "markdown",
   "metadata": {},
   "source": [
    "La opción `-w` permite especificar formato."
   ]
  },
  {
   "cell_type": "code",
   "execution_count": 18,
   "metadata": {
    "collapsed": false
   },
   "outputs": [
    {
     "name": "stdout",
     "output_type": "stream",
     "text": [
      "0\r\n",
      "0.05\r\n",
      "0.1\r\n"
     ]
    }
   ],
   "source": [
    "seq 0 .05 .1"
   ]
  },
  {
   "cell_type": "code",
   "execution_count": 19,
   "metadata": {
    "collapsed": false
   },
   "outputs": [
    {
     "name": "stdout",
     "output_type": "stream",
     "text": [
      "0.00\r\n",
      "0.05\r\n",
      "0.10\r\n"
     ]
    }
   ],
   "source": [
    "seq -w 0 .05 .1"
   ]
  },
  {
   "cell_type": "markdown",
   "metadata": {},
   "source": [
    "**Concatene el contenido de varios archivos.**"
   ]
  },
  {
   "cell_type": "code",
   "execution_count": 20,
   "metadata": {
    "collapsed": false
   },
   "outputs": [
    {
     "name": "stdout",
     "output_type": "stream",
     "text": [
      "linea 1\r\n",
      "linea 2\r\n",
      "linea 3\r\n",
      "linea 4\r\n",
      "linea 5\r\n",
      "linea 6\r\n",
      "linea 7\r\n",
      "linea 8\r\n",
      "linea 9\r\n"
     ]
    }
   ],
   "source": [
    "seq -f\"linea %g\" 1 1 3 > out.1\n",
    "seq -f\"linea %g\" 4 1 6 > out.2\n",
    "seq -f\"linea %g\" 7 1 9 > out.3\n",
    "cat out.1 out.2 out.3"
   ]
  },
  {
   "cell_type": "markdown",
   "metadata": {},
   "source": [
    "**Imprima las primeras 3 lineas de un archivo.**  \n",
    "El comando `head` imprime por defecto las primeras 10 líneas de un archivo. La cantidad se puede modificar mediante la opción `-n`."
   ]
  },
  {
   "cell_type": "code",
   "execution_count": 21,
   "metadata": {
    "collapsed": false
   },
   "outputs": [
    {
     "name": "stdout",
     "output_type": "stream",
     "text": [
      "linea 1\r\n",
      "linea 2\r\n",
      "linea 3\r\n"
     ]
    }
   ],
   "source": [
    "seq -f\"linea %g\" 100 > out.1\n",
    "head -n 3 out.1"
   ]
  },
  {
   "cell_type": "markdown",
   "metadata": {},
   "source": [
    "**Imprima las últimas 3 líneas de un archivo.**  \n",
    "Similar al comando `head`."
   ]
  },
  {
   "cell_type": "code",
   "execution_count": 22,
   "metadata": {
    "collapsed": false
   },
   "outputs": [
    {
     "name": "stdout",
     "output_type": "stream",
     "text": [
      "linea 98\r\n",
      "linea 99\r\n",
      "linea 100\r\n"
     ]
    }
   ],
   "source": [
    "tail -n 3 out.1"
   ]
  },
  {
   "cell_type": "markdown",
   "metadata": {},
   "source": [
    "**Imprima el contenido del archivo, excepto las primeras 4 líneas.**  \n",
    "En el siguiente ejemplo, el argumento `+5` indica que se imprime desde la linea 5."
   ]
  },
  {
   "cell_type": "code",
   "execution_count": 23,
   "metadata": {
    "collapsed": false
   },
   "outputs": [
    {
     "name": "stdout",
     "output_type": "stream",
     "text": [
      "linea 5\r\n",
      "linea 6\r\n"
     ]
    }
   ],
   "source": [
    "seq -f'linea %g' 6 > out.1\n",
    "tail +5 out.1"
   ]
  },
  {
   "cell_type": "markdown",
   "metadata": {},
   "source": [
    "**Cómo puedo colocar varios comandos en la misma línea.**  \n",
    "Puede separar los comandos usando `;`."
   ]
  },
  {
   "cell_type": "code",
   "execution_count": 24,
   "metadata": {
    "collapsed": false
   },
   "outputs": [
    {
     "name": "stdout",
     "output_type": "stream",
     "text": [
      "1\r\n",
      "2\r\n",
      "3\r\n"
     ]
    }
   ],
   "source": [
    "echo 1; echo 2; echo 3"
   ]
  },
  {
   "cell_type": "markdown",
   "metadata": {},
   "source": [
    "**Ordene el contenido de un archivo**  \n",
    "En este ejemplo, se ordena con base en el contenido de toda la línea."
   ]
  },
  {
   "cell_type": "code",
   "execution_count": 25,
   "metadata": {
    "collapsed": false
   },
   "outputs": [
    {
     "name": "stdout",
     "output_type": "stream",
     "text": [
      "linea 1\r\n",
      "linea 1\r\n",
      "linea 1\r\n",
      "linea 2\r\n",
      "linea 2\r\n",
      "linea 2\r\n",
      "linea 3\r\n",
      "linea 3\r\n",
      "linea 3\r\n"
     ]
    }
   ],
   "source": [
    "seq -f'linea %g' 3 > out.1\n",
    "cat out.1 out.1 out.1 | sort"
   ]
  },
  {
   "cell_type": "markdown",
   "metadata": {},
   "source": [
    "**Imprima las líneas que son diferentes de un archivo**  \n",
    "En la primera parte se generan los archivos de datos."
   ]
  },
  {
   "cell_type": "code",
   "execution_count": 26,
   "metadata": {
    "collapsed": false
   },
   "outputs": [
    {
     "name": "stdout",
     "output_type": "stream",
     "text": [
      "linea 1\r\n",
      "linea 1\r\n",
      "linea 1\r\n",
      "linea 2\r\n",
      "linea 2\r\n",
      "linea 2\r\n",
      "linea 1\r\n",
      "linea 1\r\n",
      "linea 1\r\n",
      "linea 2\r\n",
      "linea 2\r\n",
      "linea 2\r\n"
     ]
    }
   ],
   "source": [
    "seq -f'linea 1' 3 > out.1\n",
    "seq -f'linea 2' 3 > out.2\n",
    "cat out.1 out.2 out.1 out.2"
   ]
  },
  {
   "cell_type": "markdown",
   "metadata": {},
   "source": [
    "El comando `uniq` opera sobre líneas adyacentes."
   ]
  },
  {
   "cell_type": "code",
   "execution_count": 27,
   "metadata": {
    "collapsed": false
   },
   "outputs": [
    {
     "name": "stdout",
     "output_type": "stream",
     "text": [
      "linea 1\r\n",
      "linea 2\r\n",
      "linea 1\r\n",
      "linea 2\r\n"
     ]
    }
   ],
   "source": [
    "cat out.1 out.2 out.1 out.2 |  uniq"
   ]
  },
  {
   "cell_type": "markdown",
   "metadata": {},
   "source": [
    "Para obtener líneas únicas es necesario ordenar el contenido antes de aplicar `uniq`."
   ]
  },
  {
   "cell_type": "code",
   "execution_count": 28,
   "metadata": {
    "collapsed": false
   },
   "outputs": [
    {
     "name": "stdout",
     "output_type": "stream",
     "text": [
      "linea 1\r\n",
      "linea 2\r\n"
     ]
    }
   ],
   "source": [
    "cat out.1 out.2 out.1 out.2 | sort | uniq"
   ]
  },
  {
   "cell_type": "markdown",
   "metadata": {},
   "source": [
    "**Cuente cuantas lineas tiene un archivo.**  \n",
    "El comando `wc` permite contar líneas, palabras, caracteres y bytes. La opción `-l` cuanta líneas; `-m` caracteres y `-w` palabras."
   ]
  },
  {
   "cell_type": "code",
   "execution_count": 29,
   "metadata": {
    "collapsed": false
   },
   "outputs": [
    {
     "name": "stdout",
     "output_type": "stream",
     "text": [
      "       3 out.1\r\n",
      "       3 out.2\r\n",
      "       6 total\r\n"
     ]
    }
   ],
   "source": [
    "wc -l out.1 out.2 # número de líneas"
   ]
  },
  {
   "cell_type": "code",
   "execution_count": 30,
   "metadata": {
    "collapsed": false
   },
   "outputs": [
    {
     "name": "stdout",
     "output_type": "stream",
     "text": [
      "      24 out.1\r\n",
      "      24 out.2\r\n",
      "      48 total\r\n"
     ]
    }
   ],
   "source": [
    "wc -m out.1 out.2 # número de caracteres"
   ]
  },
  {
   "cell_type": "code",
   "execution_count": 31,
   "metadata": {
    "collapsed": false
   },
   "outputs": [
    {
     "name": "stdout",
     "output_type": "stream",
     "text": [
      "       6 out.1\r\n",
      "       6 out.2\r\n",
      "      12 total\r\n"
     ]
    }
   ],
   "source": [
    "wc -w out.1 out.2 # número de palabras"
   ]
  },
  {
   "cell_type": "code",
   "execution_count": 32,
   "metadata": {
    "collapsed": false
   },
   "outputs": [
    {
     "name": "stdout",
     "output_type": "stream",
     "text": [
      "       3       6      24 out.1\r\n",
      "       3       6      24 out.2\r\n",
      "       6      12      48 total\r\n"
     ]
    }
   ],
   "source": [
    "wc out.1 out.2 "
   ]
  },
  {
   "cell_type": "markdown",
   "metadata": {},
   "source": [
    "**Imprima los numeros del 1 al 20 que contienen un '1'.**  \n",
    "El comando `grep` permite imprime las líneas del archivo que contiene la cadena especificada."
   ]
  },
  {
   "cell_type": "code",
   "execution_count": 33,
   "metadata": {
    "collapsed": false
   },
   "outputs": [
    {
     "name": "stdout",
     "output_type": "stream",
     "text": [
      "1\r\n",
      "10\r\n",
      "11\r\n",
      "12\r\n",
      "13\r\n",
      "14\r\n",
      "15\r\n",
      "16\r\n",
      "17\r\n",
      "18\r\n",
      "19\r\n"
     ]
    }
   ],
   "source": [
    "seq 20 | grep 1"
   ]
  },
  {
   "cell_type": "markdown",
   "metadata": {},
   "source": [
    "**Imprima las líneas que contengan un '1'.**"
   ]
  },
  {
   "cell_type": "code",
   "execution_count": 34,
   "metadata": {
    "collapsed": false
   },
   "outputs": [
    {
     "name": "stdout",
     "output_type": "stream",
     "text": [
      "linea 1\r\n",
      "linea 10\r\n",
      "linea 11\r\n",
      "linea 12\r\n",
      "linea 13\r\n",
      "linea 14\r\n",
      "linea 15\r\n",
      "linea 16\r\n",
      "linea 17\r\n",
      "linea 18\r\n",
      "linea 19\r\n"
     ]
    }
   ],
   "source": [
    "seq -f'linea %g' 20 > out.1\n",
    "grep 1 out.1"
   ]
  },
  {
   "cell_type": "markdown",
   "metadata": {},
   "source": [
    "**Imprima los números del 1 al 100 que finalicen con '1'.**"
   ]
  },
  {
   "cell_type": "code",
   "execution_count": 35,
   "metadata": {
    "collapsed": false
   },
   "outputs": [
    {
     "name": "stdout",
     "output_type": "stream",
     "text": [
      "1\r\n",
      "11\r\n",
      "21\r\n",
      "31\r\n",
      "41\r\n",
      "51\r\n",
      "61\r\n",
      "71\r\n",
      "81\r\n",
      "91\r\n"
     ]
    }
   ],
   "source": [
    "seq 100 | grep 1$"
   ]
  },
  {
   "cell_type": "markdown",
   "metadata": {},
   "source": [
    "**Imprima los números del 1 al 100 que empiecen con '1'.**"
   ]
  },
  {
   "cell_type": "code",
   "execution_count": 36,
   "metadata": {
    "collapsed": false
   },
   "outputs": [
    {
     "name": "stdout",
     "output_type": "stream",
     "text": [
      "1\r\n",
      "10\r\n",
      "11\r\n",
      "12\r\n",
      "13\r\n",
      "14\r\n",
      "15\r\n",
      "16\r\n",
      "17\r\n",
      "18\r\n",
      "19\r\n",
      "100\r\n"
     ]
    }
   ],
   "source": [
    "seq 100 | grep ^1"
   ]
  },
  {
   "cell_type": "markdown",
   "metadata": {},
   "source": [
    "**Cuántos números hay del 1 al 20 que contienen un '1'?.**"
   ]
  },
  {
   "cell_type": "code",
   "execution_count": 37,
   "metadata": {
    "collapsed": false
   },
   "outputs": [
    {
     "name": "stdout",
     "output_type": "stream",
     "text": [
      "      11\r\n"
     ]
    }
   ],
   "source": [
    "seq 20 | grep 1 | wc -l"
   ]
  },
  {
   "cell_type": "markdown",
   "metadata": {},
   "source": [
    "**Borre los `'-'` del contenido de un archivo.**  \n",
    "En los siguientes ejemplos se usa el comando `tr`."
   ]
  },
  {
   "cell_type": "code",
   "execution_count": 38,
   "metadata": {
    "collapsed": false
   },
   "outputs": [
    {
     "name": "stdout",
     "output_type": "stream",
     "text": [
      "hola mundo\r\n"
     ]
    }
   ],
   "source": [
    "echo 'h-o-l-a- -m-u-n-d-o' > out.1\n",
    "tr -d '-'  < out.1"
   ]
  },
  {
   "cell_type": "markdown",
   "metadata": {},
   "source": [
    "**Cambie las `'-'` por `'='` en el contenido de un archivo.**"
   ]
  },
  {
   "cell_type": "code",
   "execution_count": 39,
   "metadata": {
    "collapsed": false
   },
   "outputs": [
    {
     "name": "stdout",
     "output_type": "stream",
     "text": [
      "h=o=l=a= =m=u=n=d=o\r\n"
     ]
    }
   ],
   "source": [
    "echo 'h-o-l-a- -m-u-n-d-o' > out.1\n",
    "tr '-'  '=' < out.1"
   ]
  },
  {
   "cell_type": "markdown",
   "metadata": {},
   "source": [
    "**Convierta las letras minúsculas a mayúsculas.**"
   ]
  },
  {
   "cell_type": "code",
   "execution_count": 40,
   "metadata": {
    "collapsed": false
   },
   "outputs": [
    {
     "name": "stdout",
     "output_type": "stream",
     "text": [
      "H-O-L-A- -M-U-N-D-O\r\n"
     ]
    }
   ],
   "source": [
    "echo 'h-o-l-a- -m-u-n-d-o' > out.1\n",
    "tr '[:lower:]'  '[:upper:]' < out.1"
   ]
  },
  {
   "cell_type": "markdown",
   "metadata": {},
   "source": [
    "**Extraiga los caracteres en las posiciones 3, 4 y 5 de cada línea de un archivo.**  \n",
    "En este caso se usa el comando `cut`."
   ]
  },
  {
   "cell_type": "code",
   "execution_count": 41,
   "metadata": {
    "collapsed": false
   },
   "outputs": [
    {
     "name": "stdout",
     "output_type": "stream",
     "text": [
      "345\r\n",
      "cde\r\n",
      "lmn\r\n"
     ]
    }
   ],
   "source": [
    "echo \"123456790\n",
    "abcdefghi\n",
    "jklmnopqr\" > out.1\n",
    "cut -c3-5 out.1"
   ]
  },
  {
   "cell_type": "code",
   "execution_count": 42,
   "metadata": {
    "collapsed": false
   },
   "outputs": [
    {
     "name": "stdout",
     "output_type": "stream",
     "text": [
      "345\r\n",
      "cde\r\n",
      "lmn\r\n"
     ]
    }
   ],
   "source": [
    "cut -c3,4,5 out.1"
   ]
  },
  {
   "cell_type": "markdown",
   "metadata": {},
   "source": [
    "**Extraiga los caracteres en las posiciones 2 y 5 a 7 de cada línea de un archivo.**  "
   ]
  },
  {
   "cell_type": "code",
   "execution_count": 43,
   "metadata": {
    "collapsed": false
   },
   "outputs": [
    {
     "name": "stdout",
     "output_type": "stream",
     "text": [
      "2567\r\n",
      "befg\r\n",
      "knop\r\n"
     ]
    }
   ],
   "source": [
    "cut -c2,5-7 out.1"
   ]
  },
  {
   "cell_type": "markdown",
   "metadata": {},
   "source": [
    "**Obtenga la segunda columna del archivo delimitado por comas que es generado a continuación.** "
   ]
  },
  {
   "cell_type": "code",
   "execution_count": 44,
   "metadata": {
    "collapsed": false
   },
   "outputs": [
    {
     "name": "stdout",
     "output_type": "stream",
     "text": [
      "10,mark,AA\r\n",
      "10,steve,AA\r\n",
      "20,scott,AB\r\n",
      "30,chris,AC\r\n"
     ]
    }
   ],
   "source": [
    "echo '10,mark,AA\n",
    "10,steve,AA\n",
    "20,scott,AB\n",
    "30,chris,AC' > out.1\n",
    "cat out.1"
   ]
  },
  {
   "cell_type": "code",
   "execution_count": 45,
   "metadata": {
    "collapsed": false
   },
   "outputs": [
    {
     "name": "stdout",
     "output_type": "stream",
     "text": [
      "mark\r\n",
      "steve\r\n",
      "scott\r\n",
      "chris\r\n"
     ]
    }
   ],
   "source": [
    "cut -d, -f2 out.1"
   ]
  },
  {
   "cell_type": "markdown",
   "metadata": {},
   "source": [
    "**Extraiga las columnas 1 y 3 del archivo anterior.**"
   ]
  },
  {
   "cell_type": "code",
   "execution_count": 46,
   "metadata": {
    "collapsed": false
   },
   "outputs": [
    {
     "name": "stdout",
     "output_type": "stream",
     "text": [
      "10,AA\r\n",
      "10,AA\r\n",
      "20,AB\r\n",
      "30,AC\r\n"
     ]
    }
   ],
   "source": [
    "cut -d, -f1,3 out.1"
   ]
  },
  {
   "cell_type": "markdown",
   "metadata": {},
   "source": [
    "**Extraiga los caracteres entre corchetes del archivo creado a continuación, **."
   ]
  },
  {
   "cell_type": "code",
   "execution_count": 47,
   "metadata": {
    "collapsed": false
   },
   "outputs": [
    {
     "name": "stdout",
     "output_type": "stream",
     "text": [
      "--> [1] <--\r\n",
      "--> [2] <--\r\n",
      "--> [3] <--\r\n",
      "--> [4] <--\r\n",
      "--> [5] <--\r\n"
     ]
    }
   ],
   "source": [
    "seq -f\"--> [%g] <--\" 5 > out.1\n",
    "cat out.1"
   ]
  },
  {
   "cell_type": "markdown",
   "metadata": {},
   "source": [
    "Observe que la parte después de `[` se podría extraer como:"
   ]
  },
  {
   "cell_type": "code",
   "execution_count": 48,
   "metadata": {
    "collapsed": false
   },
   "outputs": [
    {
     "name": "stdout",
     "output_type": "stream",
     "text": [
      "1] <--\r\n",
      "2] <--\r\n",
      "3] <--\r\n",
      "4] <--\r\n",
      "5] <--\r\n"
     ]
    }
   ],
   "source": [
    "cut -d'[' -f2 out.1 # primera parte"
   ]
  },
  {
   "cell_type": "markdown",
   "metadata": {},
   "source": [
    "Y la parte antes de `]` se podría extraer como:"
   ]
  },
  {
   "cell_type": "code",
   "execution_count": 49,
   "metadata": {
    "collapsed": false
   },
   "outputs": [
    {
     "name": "stdout",
     "output_type": "stream",
     "text": [
      "--> [1\r\n",
      "--> [2\r\n",
      "--> [3\r\n",
      "--> [4\r\n",
      "--> [5\r\n"
     ]
    }
   ],
   "source": [
    "cut -d']' -f1 out.1"
   ]
  },
  {
   "cell_type": "markdown",
   "metadata": {},
   "source": [
    "Combinando los dos comandos anteriores se tiene:"
   ]
  },
  {
   "cell_type": "code",
   "execution_count": 50,
   "metadata": {
    "collapsed": false
   },
   "outputs": [
    {
     "name": "stdout",
     "output_type": "stream",
     "text": [
      "1\r\n",
      "2\r\n",
      "3\r\n",
      "4\r\n",
      "5\r\n"
     ]
    }
   ],
   "source": [
    "cut -d'[' -f2 out.1 | cut -d']' -f1"
   ]
  },
  {
   "cell_type": "markdown",
   "metadata": {},
   "source": [
    "**Obtenga la segunda palabra de cada linea.**  \n",
    "En este caso, el arhivo es deimitado por espacios."
   ]
  },
  {
   "cell_type": "code",
   "execution_count": 51,
   "metadata": {
    "collapsed": false
   },
   "outputs": [
    {
     "name": "stdout",
     "output_type": "stream",
     "text": [
      "Bash is a Unix shell and command language \r\n",
      "written by Brian Fox for the \r\n",
      "GNU Project as a free software \r\n",
      "replacement for the Bourne shell.\r\n"
     ]
    }
   ],
   "source": [
    "echo \"Bash is a Unix shell and command language \n",
    "written by Brian Fox for the \n",
    "GNU Project as a free software \n",
    "replacement for the Bourne shell.\" > out.1\n",
    "cat out.1"
   ]
  },
  {
   "cell_type": "code",
   "execution_count": 52,
   "metadata": {
    "collapsed": false
   },
   "outputs": [
    {
     "name": "stdout",
     "output_type": "stream",
     "text": [
      "is\r\n",
      "by\r\n",
      "Project\r\n",
      "for\r\n"
     ]
    }
   ],
   "source": [
    "cut -d' ' -f2 out.1"
   ]
  },
  {
   "cell_type": "markdown",
   "metadata": {},
   "source": [
    "**En los dos archivos presentados a continuación, la primera columna funciona como un campo clave en una base de datos. Combine los campos e los archivos.**"
   ]
  },
  {
   "cell_type": "code",
   "execution_count": 53,
   "metadata": {
    "collapsed": false
   },
   "outputs": [
    {
     "name": "stdout",
     "output_type": "stream",
     "text": [
      "10,mark,AA\r\n",
      "10,steve,AA\r\n",
      "20,scott,AB\r\n",
      "30,chris,AC\r\n"
     ]
    }
   ],
   "source": [
    "echo '10,mark,AA\n",
    "10,steve,AA\n",
    "20,scott,AB\n",
    "30,chris,AC' > out.1\n",
    "cat out.1"
   ]
  },
  {
   "cell_type": "code",
   "execution_count": 54,
   "metadata": {
    "collapsed": false
   },
   "outputs": [
    {
     "name": "stdout",
     "output_type": "stream",
     "text": [
      "10,xxx\r\n",
      "20,yyy\r\n",
      "30,zzz\r\n"
     ]
    }
   ],
   "source": [
    "echo '10,xxx\n",
    "20,yyy\n",
    "30,zzz' > out.2\n",
    "cat out.2"
   ]
  },
  {
   "cell_type": "code",
   "execution_count": 55,
   "metadata": {
    "collapsed": false
   },
   "outputs": [
    {
     "name": "stdout",
     "output_type": "stream",
     "text": [
      "10,mark,AA,xxx\r\n",
      "10,steve,AA,xxx\r\n",
      "20,scott,AB,yyy\r\n",
      "30,chris,AC,zzz\r\n"
     ]
    }
   ],
   "source": [
    "join -t, out.1 out.2"
   ]
  },
  {
   "cell_type": "markdown",
   "metadata": {},
   "source": [
    "**Imprima la fecha**"
   ]
  },
  {
   "cell_type": "code",
   "execution_count": 56,
   "metadata": {
    "collapsed": false
   },
   "outputs": [
    {
     "name": "stdout",
     "output_type": "stream",
     "text": [
      "Fri Feb 12 13:49:45 COT 2016\r\n"
     ]
    }
   ],
   "source": [
    "date"
   ]
  },
  {
   "cell_type": "markdown",
   "metadata": {},
   "source": [
    "**Imprima el calendario de septiembre de 2016**."
   ]
  },
  {
   "cell_type": "code",
   "execution_count": 57,
   "metadata": {
    "collapsed": false
   },
   "outputs": [
    {
     "name": "stdout",
     "output_type": "stream",
     "text": [
      "   September 2016\r\n",
      "Su Mo Tu We Th Fr Sa\r\n",
      "             1  2  3\r\n",
      " 4  5  6  7  8  9 10\r\n",
      "11 12 13 14 15 16 17\r\n",
      "18 19 20 21 22 23 24\r\n",
      "25 26 27 28 29 30\r\n",
      "\r\n"
     ]
    }
   ],
   "source": [
    "cal 9 2016"
   ]
  },
  {
   "cell_type": "markdown",
   "metadata": {},
   "source": [
    "**Cuál es el directorio actual de trabajo?**"
   ]
  },
  {
   "cell_type": "code",
   "execution_count": 58,
   "metadata": {
    "collapsed": false
   },
   "outputs": [
    {
     "name": "stdout",
     "output_type": "stream",
     "text": [
      "/Users/jdvelasq/Google Drive/Moodle/3009768 Ciencia de los Datos aplicada/Presentaciones/02 Conceptos esenciales y herramientas basicas\r\n"
     ]
    }
   ],
   "source": [
    "pwd"
   ]
  },
  {
   "cell_type": "markdown",
   "metadata": {},
   "source": [
    "**Liste los archivos out.\\***"
   ]
  },
  {
   "cell_type": "code",
   "execution_count": 59,
   "metadata": {
    "collapsed": false
   },
   "outputs": [
    {
     "name": "stdout",
     "output_type": "stream",
     "text": [
      "-rw-r--r--  1 jdvelasq  staff  47 Feb 12 13:49 out.1\r\n",
      "-rw-r--r--  1 jdvelasq  staff  21 Feb 12 13:49 out.2\r\n",
      "-rw-r--r--  1 jdvelasq  staff  24 Feb 12 13:49 out.3\r\n"
     ]
    }
   ],
   "source": [
    "ls -l out.*"
   ]
  },
  {
   "cell_type": "markdown",
   "metadata": {},
   "source": [
    "**Cree un directorio llamado `data` dentro del dictorio actual y mueva los archivos `out.*` a él.**"
   ]
  },
  {
   "cell_type": "code",
   "execution_count": 60,
   "metadata": {
    "collapsed": false
   },
   "outputs": [
    {
     "name": "stdout",
     "output_type": "stream",
     "text": [
      "total 24\r\n",
      "-rw-r--r--  1 jdvelasq  staff  47 Feb 12 13:49 out.1\r\n",
      "-rw-r--r--  1 jdvelasq  staff  21 Feb 12 13:49 out.2\r\n",
      "-rw-r--r--  1 jdvelasq  staff  24 Feb 12 13:49 out.3\r\n"
     ]
    }
   ],
   "source": [
    "mkdir data\n",
    "mv out.* ./data\n",
    "ls -l ./data"
   ]
  },
  {
   "cell_type": "markdown",
   "metadata": {},
   "source": [
    "Los archivos ya no están en el directorio actual."
   ]
  },
  {
   "cell_type": "code",
   "execution_count": 61,
   "metadata": {
    "collapsed": false
   },
   "outputs": [
    {
     "name": "stdout",
     "output_type": "stream",
     "text": [
      "ls: out.*: No such file or directory\r\n"
     ]
    }
   ],
   "source": [
    "ls -l out.*"
   ]
  },
  {
   "cell_type": "markdown",
   "metadata": {},
   "source": [
    "**Muevase al directorio `data`.**"
   ]
  },
  {
   "cell_type": "code",
   "execution_count": 62,
   "metadata": {
    "collapsed": false
   },
   "outputs": [
    {
     "name": "stdout",
     "output_type": "stream",
     "text": []
    }
   ],
   "source": [
    "cd data"
   ]
  },
  {
   "cell_type": "code",
   "execution_count": 63,
   "metadata": {
    "collapsed": false
   },
   "outputs": [
    {
     "name": "stdout",
     "output_type": "stream",
     "text": [
      "/Users/jdvelasq/Google Drive/Moodle/3009768 Ciencia de los Datos aplicada/Presentaciones/02 Conceptos esenciales y herramientas basicas/data\r\n"
     ]
    }
   ],
   "source": [
    "pwd"
   ]
  },
  {
   "cell_type": "markdown",
   "metadata": {},
   "source": [
    "**Regrese al directorio superior**"
   ]
  },
  {
   "cell_type": "code",
   "execution_count": 64,
   "metadata": {
    "collapsed": false
   },
   "outputs": [
    {
     "name": "stdout",
     "output_type": "stream",
     "text": []
    }
   ],
   "source": [
    "cd .."
   ]
  },
  {
   "cell_type": "code",
   "execution_count": 65,
   "metadata": {
    "collapsed": false
   },
   "outputs": [
    {
     "name": "stdout",
     "output_type": "stream",
     "text": [
      "/Users/jdvelasq/Google Drive/Moodle/3009768 Ciencia de los Datos aplicada/Presentaciones/02 Conceptos esenciales y herramientas basicas\r\n"
     ]
    }
   ],
   "source": [
    "pwd"
   ]
  },
  {
   "cell_type": "markdown",
   "metadata": {},
   "source": [
    "**Borre el directorio `data`.**  \n",
    "Se genera un mensaje de error porque el directorio no esta vacío. Primero debe borrarse el contenido."
   ]
  },
  {
   "cell_type": "code",
   "execution_count": 66,
   "metadata": {
    "collapsed": false
   },
   "outputs": [
    {
     "name": "stdout",
     "output_type": "stream",
     "text": [
      "rmdir: ./data: Directory not empty\r\n"
     ]
    }
   ],
   "source": [
    "rmdir ./data"
   ]
  },
  {
   "cell_type": "code",
   "execution_count": 67,
   "metadata": {
    "collapsed": false
   },
   "outputs": [
    {
     "name": "stdout",
     "output_type": "stream",
     "text": []
    }
   ],
   "source": [
    "rm ./data/*     # borra todos los archivos\n",
    "ls -l ./data/   # no muestra nada porque el directorio ./data esta vacío"
   ]
  },
  {
   "cell_type": "code",
   "execution_count": 68,
   "metadata": {
    "collapsed": false
   },
   "outputs": [
    {
     "name": "stdout",
     "output_type": "stream",
     "text": []
    }
   ],
   "source": [
    "rmdir ./data"
   ]
  },
  {
   "cell_type": "code",
   "execution_count": 70,
   "metadata": {
    "collapsed": false
   },
   "outputs": [
    {
     "name": "stdout",
     "output_type": "stream",
     "text": [
      "ls: data.data*: No such file or directory\r\n",
      "ls: directorio: No such file or directory\r\n",
      "ls: el: No such file or directory\r\n",
      "ls: existe: No such file or directory\r\n",
      "ls: no: No such file or directory\r\n",
      "ls: ya: No such file or directory\r\n"
     ]
    }
   ],
   "source": [
    "ls -l data*  # ya no existe el directorio data."
   ]
  },
  {
   "cell_type": "code",
   "execution_count": null,
   "metadata": {
    "collapsed": true
   },
   "outputs": [],
   "source": []
  }
 ],
 "metadata": {
  "kernelspec": {
   "display_name": "Bash",
   "language": "bash",
   "name": "bash"
  },
  "language_info": {
   "codemirror_mode": "shell",
   "file_extension": ".sh",
   "mimetype": "text/x-sh",
   "name": "bash"
  },
  "nbpresent": {
   "slides": {
    "940b5fc9-9cdd-41d7-8372-719403fc2bd2": {
     "id": "940b5fc9-9cdd-41d7-8372-719403fc2bd2",
     "prev": null,
     "regions": {
      "395f31a1-eb6e-4371-acb3-490ee879b8b8": {
       "attrs": {
        "height": 0.2,
        "width": 0.4,
        "x": 0.5,
        "y": 0.7
       },
       "id": "395f31a1-eb6e-4371-acb3-490ee879b8b8"
      },
      "92e1a1f9-4ebc-41a2-bfe8-899c8e794d14": {
       "attrs": {
        "height": 0.8,
        "width": 0.8,
        "x": 0.1,
        "y": 0.1
       },
       "id": "92e1a1f9-4ebc-41a2-bfe8-899c8e794d14"
      },
      "ad53a586-a210-4ed7-adb4-961b08e598b8": {
       "attrs": {
        "height": 0.2,
        "width": 0.4,
        "x": 0.1,
        "y": 0.7
       },
       "id": "ad53a586-a210-4ed7-adb4-961b08e598b8"
      },
      "bd4aba0d-fa0b-42e7-81a3-0beac29f2241": {
       "attrs": {
        "height": 0.8,
        "width": 0.8,
        "x": 0.1,
        "y": 0.1
       },
       "id": "bd4aba0d-fa0b-42e7-81a3-0beac29f2241"
      },
      "cefb04b2-32f0-4965-923e-1a6b36c37fd8": {
       "attrs": {
        "height": 0.6,
        "width": 0.8,
        "x": 0.1,
        "y": 0.1
       },
       "content": {
        "cell": "a4b09f9a-453a-4787-83c4-61a43f75d860",
        "part": "source"
       },
       "id": "cefb04b2-32f0-4965-923e-1a6b36c37fd8"
      }
     }
    }
   }
  }
 },
 "nbformat": 4,
 "nbformat_minor": 0
}
